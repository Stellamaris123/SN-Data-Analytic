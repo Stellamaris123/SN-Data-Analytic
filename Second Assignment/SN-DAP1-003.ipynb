{
 "cells": [
  {
   "cell_type": "code",
   "execution_count": null,
   "metadata": {},
   "outputs": [],
   "source": [
    "insert \"1000\" into the int function\n",
    "i.e a = int(\"1000\")\n",
    "    print a"
   ]
  },
  {
   "cell_type": "markdown",
   "metadata": {},
   "source": [
    "insert 3.764 into the float function\n",
    "i.e a = float(3.764)\n",
    "    print a"
   ]
  },
  {
   "cell_type": "code",
   "execution_count": 1,
   "metadata": {
    "ExecuteTime": {
     "end_time": "2021-05-10T01:13:19.409454Z",
     "start_time": "2021-05-10T01:13:19.399461Z"
    }
   },
   "outputs": [
    {
     "name": "stdout",
     "output_type": "stream",
     "text": [
      "$99.45 dollars\n"
     ]
    }
   ],
   "source": [
    "business_expenses =str(99.45)\n",
    "print(\"$\" + business_expenses + \" \" + \"dollars\")"
   ]
  },
  {
   "cell_type": "markdown",
   "metadata": {},
   "source": [
    "Boolean is a data type that can True or False"
   ]
  },
  {
   "cell_type": "code",
   "execution_count": 2,
   "metadata": {
    "ExecuteTime": {
     "end_time": "2021-05-10T01:16:30.307780Z",
     "start_time": "2021-05-10T01:16:30.300787Z"
    }
   },
   "outputs": [
    {
     "name": "stdout",
     "output_type": "stream",
     "text": [
      "0\n"
     ]
    }
   ],
   "source": [
    "# % operator is modulus operator. it returns a remainder when a number is divided by another number or by itself. e.g\n",
    "print(4%2)"
   ]
  },
  {
   "cell_type": "code",
   "execution_count": 5,
   "metadata": {
    "ExecuteTime": {
     "end_time": "2021-05-10T01:19:19.513800Z",
     "start_time": "2021-05-10T01:19:19.507806Z"
    }
   },
   "outputs": [
    {
     "name": "stdout",
     "output_type": "stream",
     "text": [
      "Stellamaris\n"
     ]
    }
   ],
   "source": [
    "fancy_name =\"Stellamaris\"\n",
    "print(fancy_name)"
   ]
  },
  {
   "cell_type": "code",
   "execution_count": 7,
   "metadata": {
    "ExecuteTime": {
     "end_time": "2021-05-10T01:25:29.485811Z",
     "start_time": "2021-05-10T01:25:24.153223Z"
    }
   },
   "outputs": [
    {
     "name": "stdout",
     "output_type": "stream",
     "text": [
      "enter time in hours: 6\n",
      "your time in seconds is  21600\n"
     ]
    }
   ],
   "source": [
    "time_in_hours = int(input(\"enter time in hours: \"))\n",
    "time_in_secs = time_in_hours * 3600\n",
    "print(\"your time in seconds is \", time_in_secs )"
   ]
  },
  {
   "cell_type": "code",
   "execution_count": 9,
   "metadata": {
    "ExecuteTime": {
     "end_time": "2021-05-10T01:27:59.729374Z",
     "start_time": "2021-05-10T01:27:59.724378Z"
    }
   },
   "outputs": [
    {
     "name": "stdout",
     "output_type": "stream",
     "text": [
      "100\n"
     ]
    }
   ],
   "source": [
    "def easy_money():\n",
    "    print(100)\n",
    "    \n",
    "easy_money()   "
   ]
  },
  {
   "cell_type": "code",
   "execution_count": 11,
   "metadata": {
    "ExecuteTime": {
     "end_time": "2021-05-10T01:29:46.701608Z",
     "start_time": "2021-05-10T01:29:46.694611Z"
    }
   },
   "outputs": [
    {
     "name": "stdout",
     "output_type": "stream",
     "text": [
      "sushi\n"
     ]
    }
   ],
   "source": [
    "def best_food_ever():\n",
    "    print(\"sushi\")\n",
    "    \n",
    "best_food_ever()    "
   ]
  },
  {
   "cell_type": "code",
   "execution_count": 13,
   "metadata": {
    "ExecuteTime": {
     "end_time": "2021-05-10T01:31:51.913104Z",
     "start_time": "2021-05-10T01:31:51.904110Z"
    }
   },
   "outputs": [
    {
     "name": "stdout",
     "output_type": "stream",
     "text": [
      "$4\n"
     ]
    }
   ],
   "source": [
    "def convert_to_currency(x:int):\n",
    "    print(\"$\" + str(x))\n",
    "    \n",
    "convert_to_currency(4)    "
   ]
  },
  {
   "cell_type": "code",
   "execution_count": 14,
   "metadata": {
    "ExecuteTime": {
     "end_time": "2021-05-10T01:35:39.301355Z",
     "start_time": "2021-05-10T01:35:39.292360Z"
    }
   },
   "outputs": [
    {
     "name": "stdout",
     "output_type": "stream",
     "text": [
      "   \n"
     ]
    }
   ],
   "source": [
    "def string_adder(a = \" \", b = \" \"):\n",
    "    print(a + \" \" + b)\n",
    "    \n",
    "string_adder()   "
   ]
  },
  {
   "cell_type": "code",
   "execution_count": 6,
   "metadata": {
    "ExecuteTime": {
     "end_time": "2021-05-10T00:42:54.024850Z",
     "start_time": "2021-05-10T00:42:54.009851Z"
    }
   },
   "outputs": [
    {
     "name": "stdout",
     "output_type": "stream",
     "text": [
      "False\n"
     ]
    }
   ],
   "source": [
    "def long_word(y:str):\n",
    "     if len(y)>7:\n",
    "      print (True)\n",
    "     else:\n",
    "      print (False)\n",
    "      \n",
    "     \n",
    "     \n",
    "long_word(\"fish\")\n",
    " "
   ]
  },
  {
   "cell_type": "code",
   "execution_count": 10,
   "metadata": {
    "ExecuteTime": {
     "end_time": "2021-05-10T00:53:45.055491Z",
     "start_time": "2021-05-10T00:53:45.043864Z"
    }
   },
   "outputs": [
    {
     "name": "stdout",
     "output_type": "stream",
     "text": [
      "False\n"
     ]
    }
   ],
   "source": [
    "def same_first_and_last_letter(y:str):\n",
    "    if y[0] == y[-1]:\n",
    "        print (True)\n",
    "    else:\n",
    "        print (False)\n",
    "        \n",
    "        \n",
    "same_first_and_last_letter(\"church\")"
   ]
  },
  {
   "cell_type": "code",
   "execution_count": 12,
   "metadata": {
    "ExecuteTime": {
     "end_time": "2021-05-10T00:59:10.261729Z",
     "start_time": "2021-05-10T00:59:10.253734Z"
    }
   },
   "outputs": [
    {
     "name": "stdout",
     "output_type": "stream",
     "text": [
      "lap\n"
     ]
    }
   ],
   "source": [
    "def first_three_characters(y:str):\n",
    "    print(y[0:3])\n",
    "    \n",
    "    \n",
    "first_three_characters(\"laptop\")    "
   ]
  },
  {
   "cell_type": "code",
   "execution_count": null,
   "metadata": {},
   "outputs": [],
   "source": []
  }
 ],
 "metadata": {
  "hide_input": false,
  "kernelspec": {
   "display_name": "Python 3",
   "language": "python",
   "name": "python3"
  },
  "latex_envs": {
   "LaTeX_envs_menu_present": true,
   "autoclose": false,
   "autocomplete": true,
   "bibliofile": "biblio.bib",
   "cite_by": "apalike",
   "current_citInitial": 1,
   "eqLabelWithNumbers": true,
   "eqNumInitial": 1,
   "hotkeys": {
    "equation": "Ctrl-E",
    "itemize": "Ctrl-I"
   },
   "labels_anchors": false,
   "latex_user_defs": false,
   "report_style_numbering": false,
   "user_envs_cfg": false
  },
  "nbTranslate": {
   "displayLangs": [
    "*"
   ],
   "hotkey": "alt-t",
   "langInMainMenu": true,
   "sourceLang": "en",
   "targetLang": "fr",
   "useGoogleTranslate": true
  },
  "toc": {
   "base_numbering": 1,
   "nav_menu": {},
   "number_sections": true,
   "sideBar": true,
   "skip_h1_title": false,
   "title_cell": "Table of Contents",
   "title_sidebar": "Contents",
   "toc_cell": false,
   "toc_position": {},
   "toc_section_display": true,
   "toc_window_display": false
  },
  "varInspector": {
   "cols": {
    "lenName": 16,
    "lenType": 16,
    "lenVar": 40
   },
   "kernels_config": {
    "python": {
     "delete_cmd_postfix": "",
     "delete_cmd_prefix": "del ",
     "library": "var_list.py",
     "varRefreshCmd": "print(var_dic_list())"
    },
    "r": {
     "delete_cmd_postfix": ") ",
     "delete_cmd_prefix": "rm(",
     "library": "var_list.r",
     "varRefreshCmd": "cat(var_dic_list()) "
    }
   },
   "types_to_exclude": [
    "module",
    "function",
    "builtin_function_or_method",
    "instance",
    "_Feature"
   ],
   "window_display": false
  }
 },
 "nbformat": 4,
 "nbformat_minor": 2
}
