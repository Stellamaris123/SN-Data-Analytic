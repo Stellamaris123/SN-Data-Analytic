{
 "cells": [
  {
   "cell_type": "markdown",
   "metadata": {},
   "source": [
    "# TEN VERSION CONTROL SYSTEMS\n",
    "\n",
    "1) Beanstalk\n",
    "2) Helicore\n",
    "3) Apache subversion\n",
    "4) AWS code commit\n",
    "5) Mercurial\n",
    "6) Bazaarcr\n",
    "7) Microsoft Team foundation server\n",
    "8) Assembla\n",
    "9) Azure devops serer\n",
    "10) Bit bucket"
   ]
  }
 ],
 "metadata": {
  "kernelspec": {
   "display_name": "Python 3",
   "language": "python",
   "name": "python3"
  },
  "language_info": {
   "codemirror_mode": {
    "name": "ipython",
    "version": 3
   },
   "file_extension": ".py",
   "mimetype": "text/x-python",
   "name": "python",
   "nbconvert_exporter": "python",
   "pygments_lexer": "ipython3",
   "version": "3.8.5"
  }
 },
 "nbformat": 4,
 "nbformat_minor": 4
}
