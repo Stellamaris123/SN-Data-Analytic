{
 "cells": [
  {
   "cell_type": "markdown",
   "metadata": {},
   "source": [
    "# REPORT ON FIFTEEN DIFFERENT STRING METHODS"
   ]
  },
  {
   "cell_type": "markdown",
   "metadata": {},
   "source": [
    "1) uppercase() method returns the string in upper case\n",
    "\n",
    "use case/application: if the system will have to return the string in upper case"
   ]
  },
  {
   "cell_type": "code",
   "execution_count": 4,
   "metadata": {},
   "outputs": [
    {
     "name": "stdout",
     "output_type": "stream",
     "text": [
      "HELLO\n"
     ]
    }
   ],
   "source": [
    "a = \"hello\"\n",
    "print(a.upper())"
   ]
  },
  {
   "cell_type": "markdown",
   "metadata": {},
   "source": [
    "2) lowercase()returns the string in lower case\n",
    "\n",
    "use case/application: if the system will have to return the string in lower case"
   ]
  },
  {
   "cell_type": "code",
   "execution_count": 5,
   "metadata": {},
   "outputs": [
    {
     "name": "stdout",
     "output_type": "stream",
     "text": [
      "hello\n"
     ]
    }
   ],
   "source": [
    "a = \"HELLO\"\n",
    "print(a.lower())"
   ]
  },
  {
   "cell_type": "markdown",
   "metadata": {},
   "source": [
    "3) split returns the string at the specified separator and returns a list\n",
    "\n",
    "use case/application: if the system will have to return the string at the specified saparator and returns a list"
   ]
  },
  {
   "cell_type": "code",
   "execution_count": 8,
   "metadata": {},
   "outputs": [
    {
     "name": "stdout",
     "output_type": "stream",
     "text": [
      "['mango', ' orange', ' guava', ' apple']\n"
     ]
    }
   ],
   "source": [
    "a = \"mango, orange, guava, apple\"\n",
    "b = a.split(\",\")\n",
    "print(b)"
   ]
  },
  {
   "cell_type": "markdown",
   "metadata": {},
   "source": [
    "4) capitalize returns the first character to upper case\n",
    "\n",
    "use case/application: if the system will have to return the first character of the string in upper case"
   ]
  },
  {
   "cell_type": "code",
   "execution_count": 12,
   "metadata": {},
   "outputs": [
    {
     "name": "stdout",
     "output_type": "stream",
     "text": [
      "Mango\n"
     ]
    }
   ],
   "source": [
    "a = \"mango\"\n",
    "print(a.capitalize())\n"
   ]
  },
  {
   "cell_type": "markdown",
   "metadata": {},
   "source": [
    "5) isalpha() returns True if all characters in the alphabet are in the alphabet\n",
    "\n",
    "use case/application: if the system will have to return True if the characters are in the alphabet"
   ]
  },
  {
   "cell_type": "code",
   "execution_count": 13,
   "metadata": {},
   "outputs": [
    {
     "name": "stdout",
     "output_type": "stream",
     "text": [
      "True\n"
     ]
    }
   ],
   "source": [
    "c = \"given\"\n",
    "print(c.isalpha())"
   ]
  },
  {
   "cell_type": "markdown",
   "metadata": {},
   "source": [
    "6) swapcase() swaps cases, lower case becomes upper case and vice versa\n",
    "\n",
    "use case/application: if the system will have to swap cases, lower case will become upper case and vice versa."
   ]
  },
  {
   "cell_type": "code",
   "execution_count": 19,
   "metadata": {},
   "outputs": [
    {
     "name": "stdout",
     "output_type": "stream",
     "text": [
      "eVERYTHING hAS cHANGED\n"
     ]
    }
   ],
   "source": [
    "d = \"Everything Has Changed\"\n",
    "print(d.swapcase())"
   ]
  },
  {
   "cell_type": "markdown",
   "metadata": {},
   "source": [
    "7) replace() replaces a specified value in a string with a specified value \n",
    "\n",
    "use case/application: if the system will have to replace a specified value with a specified value"
   ]
  },
  {
   "cell_type": "code",
   "execution_count": 20,
   "metadata": {},
   "outputs": [
    {
     "name": "stdout",
     "output_type": "stream",
     "text": [
      "hood\n"
     ]
    }
   ],
   "source": [
    "c = \"good\"\n",
    "print(c.replace(\"g\", \"h\"))"
   ]
  },
  {
   "cell_type": "markdown",
   "metadata": {},
   "source": [
    "8) strip() removes any whitespace from the beginning or the end of the text\n",
    "\n",
    "use case/application: if the system will have to removes the whitespace from the beginning or the end of the texte"
   ]
  },
  {
   "cell_type": "code",
   "execution_count": 21,
   "metadata": {},
   "outputs": [
    {
     "name": "stdout",
     "output_type": "stream",
     "text": [
      "Good is best\n"
     ]
    }
   ],
   "source": [
    "d = \" Good is best \"\n",
    "print(d.strip())"
   ]
  },
  {
   "cell_type": "markdown",
   "metadata": {},
   "source": [
    "9) startswith() returns True if the string starts with the specified value\n",
    "\n",
    "use case/application: if the system will have to return True if the string starts with specified value."
   ]
  },
  {
   "cell_type": "code",
   "execution_count": 25,
   "metadata": {},
   "outputs": [
    {
     "name": "stdout",
     "output_type": "stream",
     "text": [
      "True\n"
     ]
    }
   ],
   "source": [
    "a = \"welcome to the office\"\n",
    "print(a.startswith(\"welcome\"))"
   ]
  },
  {
   "cell_type": "markdown",
   "metadata": {},
   "source": [
    "10) title() converts the first character of each word to upper case\n",
    "\n",
    "use case/application: if the system will have to convert the first character of each word to upper case."
   ]
  },
  {
   "cell_type": "code",
   "execution_count": 24,
   "metadata": {},
   "outputs": [
    {
     "name": "stdout",
     "output_type": "stream",
     "text": [
      "Welcome To The Satisfying Field\n"
     ]
    }
   ],
   "source": [
    "a = \"welcome to the satisfying field\"\n",
    "print(a.title())"
   ]
  },
  {
   "cell_type": "markdown",
   "metadata": {},
   "source": [
    "11) islower() returns True if all the charactes in the string are in lower case\n",
    "\n",
    "use case/application: if the system will have to return True when all characters in the string are lower case"
   ]
  },
  {
   "cell_type": "code",
   "execution_count": 1,
   "metadata": {},
   "outputs": [
    {
     "name": "stdout",
     "output_type": "stream",
     "text": [
      "True\n"
     ]
    }
   ],
   "source": [
    "s = \"little puppy\"\n",
    "print(s.islower())"
   ]
  },
  {
   "cell_type": "markdown",
   "metadata": {},
   "source": [
    "12)find()searches the string for a specified value and returns the position of where it was found\n",
    "\n",
    "use case/application: if the system will have to search the string for a specified value and  returns the position of where it was found"
   ]
  },
  {
   "cell_type": "code",
   "execution_count": 3,
   "metadata": {},
   "outputs": [
    {
     "name": "stdout",
     "output_type": "stream",
     "text": [
      "9\n"
     ]
    }
   ],
   "source": [
    "d = \"a stitch in time saves nine\"\n",
    "print(d.find(\"in\"))"
   ]
  },
  {
   "cell_type": "markdown",
   "metadata": {},
   "source": [
    "13) isupper() returns True if all characters in the string are uppercase\n",
    "\n",
    "use case/application: if the system will have to return True if all the characters in the string are upper case"
   ]
  },
  {
   "cell_type": "code",
   "execution_count": 4,
   "metadata": {},
   "outputs": [
    {
     "name": "stdout",
     "output_type": "stream",
     "text": [
      "False\n"
     ]
    }
   ],
   "source": [
    "a = \"welcome to the satisfying field\"\n",
    "print(a.isupper())"
   ]
  },
  {
   "cell_type": "markdown",
   "metadata": {},
   "source": [
    "14) count() returns the number of times a specified value occurs in a string\n",
    "\n",
    "use case/application: if the system will have to return the number of times a specified value occured in a string"
   ]
  },
  {
   "cell_type": "code",
   "execution_count": 6,
   "metadata": {},
   "outputs": [
    {
     "name": "stdout",
     "output_type": "stream",
     "text": [
      "3\n"
     ]
    }
   ],
   "source": [
    "x = \"a stitch in time saves nine\"\n",
    "print(x.count(\"t\"))"
   ]
  },
  {
   "cell_type": "markdown",
   "metadata": {},
   "source": [
    "15) endswith returns True if the string ends with the specified value\n",
    "\n",
    "use case/application: if the system will have to return True if the string ends with the specified value"
   ]
  },
  {
   "cell_type": "code",
   "execution_count": 7,
   "metadata": {},
   "outputs": [
    {
     "name": "stdout",
     "output_type": "stream",
     "text": [
      "False\n"
     ]
    }
   ],
   "source": [
    "a = \"half of a black moon\"\n",
    "print(a.endswith(\"of\"))"
   ]
  },
  {
   "cell_type": "code",
   "execution_count": null,
   "metadata": {},
   "outputs": [],
   "source": []
  }
 ],
 "metadata": {
  "kernelspec": {
   "display_name": "Python 3",
   "language": "python",
   "name": "python3"
  },
  "language_info": {
   "codemirror_mode": {
    "name": "ipython",
    "version": 3
   },
   "file_extension": ".py",
   "mimetype": "text/x-python",
   "name": "python",
   "nbconvert_exporter": "python",
   "pygments_lexer": "ipython3",
   "version": "3.8.5"
  }
 },
 "nbformat": 4,
 "nbformat_minor": 4
}
