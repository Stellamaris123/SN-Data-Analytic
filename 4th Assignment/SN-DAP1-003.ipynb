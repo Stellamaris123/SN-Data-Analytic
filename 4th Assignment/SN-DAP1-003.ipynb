{
 "cells": [
  {
   "cell_type": "markdown",
   "metadata": {},
   "source": [
    "# ASSIGNMENT 1"
   ]
  },
  {
   "cell_type": "markdown",
   "metadata": {},
   "source": [
    "fromkeys()\tReturns a dictionary with the specified keys and value"
   ]
  },
  {
   "cell_type": "code",
   "execution_count": 2,
   "metadata": {
    "ExecuteTime": {
     "end_time": "2021-05-29T20:30:36.487340Z",
     "start_time": "2021-05-29T20:30:36.479347Z"
    }
   },
   "outputs": [
    {
     "name": "stdout",
     "output_type": "stream",
     "text": [
      "{'mango': 50, 'banana': 50, 'orange': 50, 'pear': 50}\n"
     ]
    }
   ],
   "source": [
    "Friut = ('mango', 'banana', 'orange', 'pear')\n",
    "value = 50\n",
    "\n",
    "score = dict.fromkeys(Friut, value)\n",
    "print(score)\n"
   ]
  },
  {
   "cell_type": "markdown",
   "metadata": {},
   "source": [
    "get()\tReturns the value of the specified key"
   ]
  },
  {
   "cell_type": "code",
   "execution_count": 3,
   "metadata": {
    "ExecuteTime": {
     "end_time": "2021-05-29T20:52:41.317060Z",
     "start_time": "2021-05-29T20:52:41.308065Z"
    }
   },
   "outputs": [
    {
     "name": "stdout",
     "output_type": "stream",
     "text": [
      "20\n"
     ]
    }
   ],
   "source": [
    "Fruit = {'mango': 90, 'banana': 20, 'orange': 40, 'pear': 57}\n",
    "\n",
    "score = Fruit.get('banana')\n",
    "print(score)\n"
   ]
  },
  {
   "cell_type": "markdown",
   "metadata": {},
   "source": [
    "items()\tReturns a list containing a tuple for each key value pair"
   ]
  },
  {
   "cell_type": "code",
   "execution_count": 7,
   "metadata": {
    "ExecuteTime": {
     "end_time": "2021-05-29T20:58:21.720685Z",
     "start_time": "2021-05-29T20:58:21.699699Z"
    }
   },
   "outputs": [
    {
     "data": {
      "text/plain": [
       "dict_items([('mango', 90), ('banana', 20), ('orange', 40), ('pear', 57)])"
      ]
     },
     "execution_count": 7,
     "metadata": {},
     "output_type": "execute_result"
    }
   ],
   "source": [
    "Fruit = {'mango': 90, 'banana': 20, 'orange': 40, 'pear': 57}\n",
    "\n",
    "Fruit.items()"
   ]
  },
  {
   "cell_type": "markdown",
   "metadata": {},
   "source": [
    "keys()\tReturns a list containing the dictionary's keys"
   ]
  },
  {
   "cell_type": "code",
   "execution_count": 8,
   "metadata": {
    "ExecuteTime": {
     "end_time": "2021-05-29T20:59:54.658106Z",
     "start_time": "2021-05-29T20:59:54.651113Z"
    }
   },
   "outputs": [
    {
     "data": {
      "text/plain": [
       "dict_keys(['mango', 'banana', 'orange', 'pear'])"
      ]
     },
     "execution_count": 8,
     "metadata": {},
     "output_type": "execute_result"
    }
   ],
   "source": [
    "Fruit = {'mango': 90, 'banana': 20, 'orange': 40, 'pear': 57}\n",
    "\n",
    "Fruit.keys()"
   ]
  },
  {
   "cell_type": "markdown",
   "metadata": {},
   "source": [
    "pop()\tRemoves the element with the specified key"
   ]
  },
  {
   "cell_type": "code",
   "execution_count": 10,
   "metadata": {
    "ExecuteTime": {
     "end_time": "2021-05-29T21:03:36.810584Z",
     "start_time": "2021-05-29T21:03:36.803590Z"
    }
   },
   "outputs": [
    {
     "name": "stdout",
     "output_type": "stream",
     "text": [
      "{'mango': 90, 'banana': 20, 'pear': 57}\n"
     ]
    }
   ],
   "source": [
    "Fruit = {'mango': 90, 'banana': 20, 'orange': 40, 'pear': 57}\n",
    "\n",
    "Fruit.pop('orange')\n",
    "\n",
    "print(Fruit)\n"
   ]
  },
  {
   "cell_type": "markdown",
   "metadata": {},
   "source": [
    "popitem()\tRemoves the last inserted key-value pair"
   ]
  },
  {
   "cell_type": "code",
   "execution_count": 11,
   "metadata": {
    "ExecuteTime": {
     "end_time": "2021-05-29T21:07:34.578479Z",
     "start_time": "2021-05-29T21:07:34.570481Z"
    }
   },
   "outputs": [
    {
     "name": "stdout",
     "output_type": "stream",
     "text": [
      "{'mango': 90, 'banana': 20, 'orange': 40}\n"
     ]
    }
   ],
   "source": [
    "Fruit = {'mango': 90, 'banana': 20, 'orange': 40, 'pear': 57}\n",
    "\n",
    "Fruit.popitem()\n",
    "print(Fruit)"
   ]
  },
  {
   "cell_type": "markdown",
   "metadata": {},
   "source": [
    "setdefault()\tReturns the value of the specified key. If the key does not exist: insert the key, with the specified value"
   ]
  },
  {
   "cell_type": "code",
   "execution_count": 13,
   "metadata": {
    "ExecuteTime": {
     "end_time": "2021-05-29T21:12:18.074717Z",
     "start_time": "2021-05-29T21:12:18.068720Z"
    }
   },
   "outputs": [
    {
     "name": "stdout",
     "output_type": "stream",
     "text": [
      "{'mango': 90, 'banana': 20, 'orange': 40, 'pear': 57, 'apple': 60}\n"
     ]
    }
   ],
   "source": [
    "Fruit = {'mango': 90, 'banana': 20, 'orange': 40, 'pear': 57}\n",
    "Fruit.setdefault('apple', 60)\n",
    "print(Fruit)"
   ]
  },
  {
   "cell_type": "markdown",
   "metadata": {},
   "source": [
    "update()\tUpdates the dictionary with the specified key-value pairs"
   ]
  },
  {
   "cell_type": "code",
   "execution_count": 19,
   "metadata": {
    "ExecuteTime": {
     "end_time": "2021-05-29T21:19:07.756466Z",
     "start_time": "2021-05-29T21:19:07.749469Z"
    }
   },
   "outputs": [
    {
     "name": "stdout",
     "output_type": "stream",
     "text": [
      "{'mango': 90, 'banana': 20, 'orange': 40, 'pear': 57, 'apple': 70}\n"
     ]
    }
   ],
   "source": [
    "Fruit = {'mango': 90, 'banana': 20, 'orange': 40, 'pear': 57}\n",
    "Fruit.update({'apple': 70})\n",
    "print(Fruit)"
   ]
  },
  {
   "cell_type": "markdown",
   "metadata": {},
   "source": [
    "values()\tReturns a list of all the values in the dictionary"
   ]
  },
  {
   "cell_type": "code",
   "execution_count": 20,
   "metadata": {
    "ExecuteTime": {
     "end_time": "2021-05-29T21:21:20.284980Z",
     "start_time": "2021-05-29T21:21:20.274987Z"
    }
   },
   "outputs": [
    {
     "data": {
      "text/plain": [
       "dict_values([90, 20, 40, 57, 70])"
      ]
     },
     "execution_count": 20,
     "metadata": {},
     "output_type": "execute_result"
    }
   ],
   "source": [
    "Fruit = {'mango': 90, 'banana': 20, 'orange': 40, 'pear': 57, 'apple': 70}\n",
    "Fruit.values()"
   ]
  },
  {
   "cell_type": "code",
   "execution_count": null,
   "metadata": {},
   "outputs": [],
   "source": []
  },
  {
   "cell_type": "markdown",
   "metadata": {},
   "source": [
    "# ASSIGNMENT 2"
   ]
  },
  {
   "cell_type": "markdown",
   "metadata": {},
   "source": [
    "Write a program that append items in apple list to fruit list using append method.\n",
    "fruit = [\"apple\"]\n",
    "apple = [\"apple1\", \"apple2\", \"apple3\", \"apple4\"]"
   ]
  },
  {
   "cell_type": "code",
   "execution_count": 21,
   "metadata": {
    "ExecuteTime": {
     "end_time": "2021-05-29T21:27:33.410626Z",
     "start_time": "2021-05-29T21:27:33.401631Z"
    }
   },
   "outputs": [
    {
     "name": "stdout",
     "output_type": "stream",
     "text": [
      "['apple', 'apple1', 'apple2', 'apple3', 'apple4']\n"
     ]
    }
   ],
   "source": [
    "fruit =[\"apple\"]\n",
    "apple = [\"apple1\", \"apple2\", \"apple3\", \"apple4\"]\n",
    "for items in apple:\n",
    "    fruit.append(items)\n",
    "print(fruit)"
   ]
  },
  {
   "cell_type": "code",
   "execution_count": null,
   "metadata": {},
   "outputs": [],
   "source": []
  }
 ],
 "metadata": {
  "hide_input": false,
  "kernelspec": {
   "display_name": "Python 3",
   "language": "python",
   "name": "python3"
  },
  "latex_envs": {
   "LaTeX_envs_menu_present": true,
   "autoclose": false,
   "autocomplete": true,
   "bibliofile": "biblio.bib",
   "cite_by": "apalike",
   "current_citInitial": 1,
   "eqLabelWithNumbers": true,
   "eqNumInitial": 1,
   "hotkeys": {
    "equation": "Ctrl-E",
    "itemize": "Ctrl-I"
   },
   "labels_anchors": false,
   "latex_user_defs": false,
   "report_style_numbering": false,
   "user_envs_cfg": false
  },
  "nbTranslate": {
   "displayLangs": [
    "*"
   ],
   "hotkey": "alt-t",
   "langInMainMenu": true,
   "sourceLang": "en",
   "targetLang": "fr",
   "useGoogleTranslate": true
  },
  "toc": {
   "base_numbering": 1,
   "nav_menu": {},
   "number_sections": true,
   "sideBar": true,
   "skip_h1_title": false,
   "title_cell": "Table of Contents",
   "title_sidebar": "Contents",
   "toc_cell": false,
   "toc_position": {},
   "toc_section_display": true,
   "toc_window_display": false
  },
  "varInspector": {
   "cols": {
    "lenName": 16,
    "lenType": 16,
    "lenVar": 40
   },
   "kernels_config": {
    "python": {
     "delete_cmd_postfix": "",
     "delete_cmd_prefix": "del ",
     "library": "var_list.py",
     "varRefreshCmd": "print(var_dic_list())"
    },
    "r": {
     "delete_cmd_postfix": ") ",
     "delete_cmd_prefix": "rm(",
     "library": "var_list.r",
     "varRefreshCmd": "cat(var_dic_list()) "
    }
   },
   "types_to_exclude": [
    "module",
    "function",
    "builtin_function_or_method",
    "instance",
    "_Feature"
   ],
   "window_display": false
  }
 },
 "nbformat": 4,
 "nbformat_minor": 2
}
